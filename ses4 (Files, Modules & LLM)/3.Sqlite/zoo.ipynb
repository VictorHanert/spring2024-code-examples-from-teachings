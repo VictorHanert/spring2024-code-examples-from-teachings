{
 "cells": [
  {
   "cell_type": "code",
   "execution_count": 4,
   "metadata": {},
   "outputs": [],
   "source": [
    "import sqlite3\n",
    "con = sqlite3.connect(\"zoo.db\")\n",
    "\n",
    "cur = con.cursor()"
   ]
  },
  {
   "cell_type": "code",
   "execution_count": 5,
   "metadata": {},
   "outputs": [
    {
     "data": {
      "text/plain": [
       "('animals',)"
      ]
     },
     "execution_count": 5,
     "metadata": {},
     "output_type": "execute_result"
    }
   ],
   "source": [
    "cur.execute(\"CREATE TABLE animals(name, age, gender)\")\n",
    "\n",
    "response = cur.execute(\"SELECT name FROM sqlite_master\")\n",
    "response.fetchone()"
   ]
  },
  {
   "cell_type": "code",
   "execution_count": 7,
   "metadata": {},
   "outputs": [
    {
     "data": {
      "text/plain": [
       "[('Elephant',),\n",
       " ('Lion',),\n",
       " ('Giraffe',),\n",
       " ('Elephant',),\n",
       " ('Lion',),\n",
       " ('Giraffe',)]"
      ]
     },
     "execution_count": 7,
     "metadata": {},
     "output_type": "execute_result"
    }
   ],
   "source": [
    "cur.execute(\"\"\"\n",
    "    INSERT INTO animals VALUES\n",
    "        ('Elephant', 23, 'male'),\n",
    "        ('Lion', 14, 'female'),\n",
    "        ('Giraffe', 7, 'male')\n",
    "\"\"\")\n",
    "con.commit()\n",
    "\n",
    "res = cur.execute(\"SELECT name FROM animals\")\n",
    "res.fetchall()"
   ]
  }
 ],
 "metadata": {
  "kernelspec": {
   "display_name": "Python 3",
   "language": "python",
   "name": "python3"
  },
  "language_info": {
   "codemirror_mode": {
    "name": "ipython",
    "version": 3
   },
   "file_extension": ".py",
   "mimetype": "text/x-python",
   "name": "python",
   "nbconvert_exporter": "python",
   "pygments_lexer": "ipython3",
   "version": "3.10.13"
  }
 },
 "nbformat": 4,
 "nbformat_minor": 2
}
